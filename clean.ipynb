{
 "cells": [
  {
   "cell_type": "markdown",
   "id": "5809c5ae-6afa-414d-9277-a35828663948",
   "metadata": {},
   "source": [
    "    \n",
    "# Sales Analysis"
   ]
  },
  {
   "cell_type": "markdown",
   "id": "59fb5cca-a59c-40fd-a2a7-2c3c27c8348d",
   "metadata": {},
   "source": [
    "## Read in updated dataframe"
   ]
  },
  {
   "cell_type": "code",
   "execution_count": 1,
   "id": "c4d0793e-7464-4f8c-bd9b-6805a932409a",
   "metadata": {},
   "outputs": [
    {
     "data": {
      "text/html": [
       "<div>\n",
       "<style scoped>\n",
       "    .dataframe tbody tr th:only-of-type {\n",
       "        vertical-align: middle;\n",
       "    }\n",
       "\n",
       "    .dataframe tbody tr th {\n",
       "        vertical-align: top;\n",
       "    }\n",
       "\n",
       "    .dataframe thead th {\n",
       "        text-align: right;\n",
       "    }\n",
       "</style>\n",
       "<table border=\"1\" class=\"dataframe\">\n",
       "  <thead>\n",
       "    <tr style=\"text-align: right;\">\n",
       "      <th></th>\n",
       "      <th>Order ID</th>\n",
       "      <th>Product</th>\n",
       "      <th>Quantity Ordered</th>\n",
       "      <th>Price Each</th>\n",
       "      <th>Order Date</th>\n",
       "      <th>Purchase Address</th>\n",
       "      <th>pincode</th>\n",
       "      <th>Time</th>\n",
       "    </tr>\n",
       "  </thead>\n",
       "  <tbody>\n",
       "    <tr>\n",
       "      <th>0</th>\n",
       "      <td>141234</td>\n",
       "      <td>iPhone</td>\n",
       "      <td>1</td>\n",
       "      <td>700.00</td>\n",
       "      <td>2019-01-22</td>\n",
       "      <td>944 Walnut St, Boston, MA</td>\n",
       "      <td>2215</td>\n",
       "      <td>21:25:00</td>\n",
       "    </tr>\n",
       "    <tr>\n",
       "      <th>1</th>\n",
       "      <td>141235</td>\n",
       "      <td>Lightning Charging Cable</td>\n",
       "      <td>1</td>\n",
       "      <td>14.95</td>\n",
       "      <td>2019-01-28</td>\n",
       "      <td>185 Maple St, Portland, OR</td>\n",
       "      <td>97035</td>\n",
       "      <td>14:15:00</td>\n",
       "    </tr>\n",
       "    <tr>\n",
       "      <th>2</th>\n",
       "      <td>141236</td>\n",
       "      <td>Wired Headphones</td>\n",
       "      <td>2</td>\n",
       "      <td>11.99</td>\n",
       "      <td>2019-01-17</td>\n",
       "      <td>538 Adams St, San Francisco, CA</td>\n",
       "      <td>94016</td>\n",
       "      <td>13:33:00</td>\n",
       "    </tr>\n",
       "    <tr>\n",
       "      <th>3</th>\n",
       "      <td>141237</td>\n",
       "      <td>27in FHD Monitor</td>\n",
       "      <td>1</td>\n",
       "      <td>149.99</td>\n",
       "      <td>2019-01-05</td>\n",
       "      <td>738 10th St, Los Angeles, CA</td>\n",
       "      <td>90001</td>\n",
       "      <td>20:33:00</td>\n",
       "    </tr>\n",
       "    <tr>\n",
       "      <th>4</th>\n",
       "      <td>141238</td>\n",
       "      <td>Wired Headphones</td>\n",
       "      <td>1</td>\n",
       "      <td>11.99</td>\n",
       "      <td>2019-01-25</td>\n",
       "      <td>387 10th St, Austin, TX</td>\n",
       "      <td>73301</td>\n",
       "      <td>11:59:00</td>\n",
       "    </tr>\n",
       "    <tr>\n",
       "      <th>5</th>\n",
       "      <td>141239</td>\n",
       "      <td>AAA Batteries (4-pack)</td>\n",
       "      <td>1</td>\n",
       "      <td>2.99</td>\n",
       "      <td>2019-01-29</td>\n",
       "      <td>775 Willow St, San Francisco, CA</td>\n",
       "      <td>94016</td>\n",
       "      <td>20:22:00</td>\n",
       "    </tr>\n",
       "    <tr>\n",
       "      <th>6</th>\n",
       "      <td>141240</td>\n",
       "      <td>27in 4K Gaming Monitor</td>\n",
       "      <td>1</td>\n",
       "      <td>389.99</td>\n",
       "      <td>2019-01-26</td>\n",
       "      <td>979 Park St, Los Angeles, CA</td>\n",
       "      <td>90001</td>\n",
       "      <td>12:16:00</td>\n",
       "    </tr>\n",
       "    <tr>\n",
       "      <th>7</th>\n",
       "      <td>141241</td>\n",
       "      <td>USB-C Charging Cable</td>\n",
       "      <td>1</td>\n",
       "      <td>11.95</td>\n",
       "      <td>2019-01-05</td>\n",
       "      <td>181 6th St, San Francisco, CA</td>\n",
       "      <td>94016</td>\n",
       "      <td>12:04:00</td>\n",
       "    </tr>\n",
       "    <tr>\n",
       "      <th>8</th>\n",
       "      <td>141242</td>\n",
       "      <td>Bose SoundSport Headphones</td>\n",
       "      <td>1</td>\n",
       "      <td>99.99</td>\n",
       "      <td>2019-01-01</td>\n",
       "      <td>867 Willow St, Los Angeles, CA</td>\n",
       "      <td>90001</td>\n",
       "      <td>10:30:00</td>\n",
       "    </tr>\n",
       "    <tr>\n",
       "      <th>9</th>\n",
       "      <td>141243</td>\n",
       "      <td>Apple Airpods Headphones</td>\n",
       "      <td>1</td>\n",
       "      <td>150.00</td>\n",
       "      <td>2019-01-22</td>\n",
       "      <td>657 Johnson St, San Francisco, CA</td>\n",
       "      <td>94016</td>\n",
       "      <td>21:20:00</td>\n",
       "    </tr>\n",
       "  </tbody>\n",
       "</table>\n",
       "</div>"
      ],
      "text/plain": [
       "   Order ID                     Product  Quantity Ordered  Price Each  \\\n",
       "0    141234                      iPhone                 1      700.00   \n",
       "1    141235    Lightning Charging Cable                 1       14.95   \n",
       "2    141236            Wired Headphones                 2       11.99   \n",
       "3    141237            27in FHD Monitor                 1      149.99   \n",
       "4    141238            Wired Headphones                 1       11.99   \n",
       "5    141239      AAA Batteries (4-pack)                 1        2.99   \n",
       "6    141240      27in 4K Gaming Monitor                 1      389.99   \n",
       "7    141241        USB-C Charging Cable                 1       11.95   \n",
       "8    141242  Bose SoundSport Headphones                 1       99.99   \n",
       "9    141243    Apple Airpods Headphones                 1      150.00   \n",
       "\n",
       "   Order Date                   Purchase Address  pincode      Time  \n",
       "0  2019-01-22          944 Walnut St, Boston, MA     2215  21:25:00  \n",
       "1  2019-01-28         185 Maple St, Portland, OR    97035  14:15:00  \n",
       "2  2019-01-17    538 Adams St, San Francisco, CA    94016  13:33:00  \n",
       "3  2019-01-05       738 10th St, Los Angeles, CA    90001  20:33:00  \n",
       "4  2019-01-25            387 10th St, Austin, TX    73301  11:59:00  \n",
       "5  2019-01-29   775 Willow St, San Francisco, CA    94016  20:22:00  \n",
       "6  2019-01-26       979 Park St, Los Angeles, CA    90001  12:16:00  \n",
       "7  2019-01-05      181 6th St, San Francisco, CA    94016  12:04:00  \n",
       "8  2019-01-01     867 Willow St, Los Angeles, CA    90001  10:30:00  \n",
       "9  2019-01-22  657 Johnson St, San Francisco, CA    94016  21:20:00  "
      ]
     },
     "execution_count": 1,
     "metadata": {},
     "output_type": "execute_result"
    }
   ],
   "source": [
    "import pandas as pd\n",
    "    \n",
    "data=pd.read_csv(\"sale_merged_file.csv\")\n",
    "data.head(10)\n"
   ]
  },
  {
   "cell_type": "code",
   "execution_count": 2,
   "id": "c2958d40-67e1-4a83-928f-19dbd12fc751",
   "metadata": {},
   "outputs": [
    {
     "data": {
      "text/plain": [
       "(185950, 8)"
      ]
     },
     "execution_count": 2,
     "metadata": {},
     "output_type": "execute_result"
    }
   ],
   "source": [
    "data.shape"
   ]
  },
  {
   "cell_type": "markdown",
   "id": "1653de14-9861-4c69-a530-cfc34b65d04b",
   "metadata": {},
   "source": [
    "## Clean up the data!\n",
    "### The first step in this is figuring out what we need to clean. I have found in practice, that you find things you need to clean as you perform operations and get errors. Based on the error, you decide how you should go about cleaning the data\n"
   ]
  },
  {
   "cell_type": "code",
   "execution_count": 27,
   "id": "4167f236-23ee-4d3e-b889-5a10ef108e36",
   "metadata": {},
   "outputs": [
    {
     "data": {
      "text/plain": [
       "Order ID            0.0\n",
       "Product             0.0\n",
       "Quantity Ordered    0.0\n",
       "Price Each          0.0\n",
       "Order Date          0.0\n",
       "Purchase Address    0.0\n",
       "pincode             0.0\n",
       "Time                0.0\n",
       "dtype: float64"
      ]
     },
     "execution_count": 27,
     "metadata": {},
     "output_type": "execute_result"
    }
   ],
   "source": [
    "(data.isnull().sum()/data.shape[0])*100"
   ]
  },
  {
   "cell_type": "code",
   "execution_count": 28,
   "id": "20afa3df-e955-4232-9c31-59d4da3d9df0",
   "metadata": {},
   "outputs": [
    {
     "name": "stdout",
     "output_type": "stream",
     "text": [
      "<class 'pandas.core.frame.DataFrame'>\n",
      "RangeIndex: 185950 entries, 0 to 185949\n",
      "Data columns (total 8 columns):\n",
      " #   Column            Non-Null Count   Dtype  \n",
      "---  ------            --------------   -----  \n",
      " 0   Order ID          185950 non-null  int64  \n",
      " 1   Product           185950 non-null  object \n",
      " 2   Quantity Ordered  185950 non-null  int64  \n",
      " 3   Price Each        185950 non-null  float64\n",
      " 4   Order Date        185950 non-null  object \n",
      " 5   Purchase Address  185950 non-null  object \n",
      " 6   pincode           185950 non-null  int64  \n",
      " 7   Time              185950 non-null  object \n",
      "dtypes: float64(1), int64(3), object(4)\n",
      "memory usage: 11.3+ MB\n"
     ]
    }
   ],
   "source": [
    "data.info()"
   ]
  },
  {
   "cell_type": "markdown",
   "id": "8d746f86-ee92-4c9a-8ee0-e0cfd3b58855",
   "metadata": {},
   "source": [
    "### Drop rows of NAN"
   ]
  },
  {
   "cell_type": "code",
   "execution_count": 29,
   "id": "6cefc2ba-d1fb-4574-826c-9f1f2fd4f4e6",
   "metadata": {},
   "outputs": [],
   "source": [
    "data.dropna(inplace= True)"
   ]
  },
  {
   "cell_type": "code",
   "execution_count": 30,
   "id": "e6feb1e4-e426-4b0f-96ae-50b550402ef5",
   "metadata": {},
   "outputs": [
    {
     "data": {
      "text/plain": [
       "Order ID            0\n",
       "Product             0\n",
       "Quantity Ordered    0\n",
       "Price Each          0\n",
       "Order Date          0\n",
       "Purchase Address    0\n",
       "pincode             0\n",
       "Time                0\n",
       "dtype: int64"
      ]
     },
     "execution_count": 30,
     "metadata": {},
     "output_type": "execute_result"
    }
   ],
   "source": [
    "data.isnull().sum()"
   ]
  },
  {
   "cell_type": "markdown",
   "id": "bc579bdb-ea4f-4f28-9de8-bb61fd4d2165",
   "metadata": {},
   "source": [
    "### Make columns correct type"
   ]
  },
  {
   "cell_type": "code",
   "execution_count": 31,
   "id": "e0ac0c25-66f5-45fb-96c0-b4d40adb9a39",
   "metadata": {},
   "outputs": [
    {
     "data": {
      "text/plain": [
       "0         ston, MA\n",
       "1         land, OR\n",
       "2         isco, CA\n",
       "3         eles, CA\n",
       "4         stin, TX\n",
       "            ...   \n",
       "185945    isco, CA\n",
       "185946    eles, CA\n",
       "185947    ttle, WA\n",
       "185948    llas, TX\n",
       "185949    eles, CA\n",
       "Name: pincode, Length: 185950, dtype: object"
      ]
     },
     "execution_count": 31,
     "metadata": {},
     "output_type": "execute_result"
    }
   ],
   "source": [
    "add=data[\"Purchase Address\"]\n",
    "\n",
    "data[\"pincode\"]=add.str[-8:]\n",
    "data[\"pincode\"]"
   ]
  },
  {
   "cell_type": "code",
   "execution_count": 32,
   "id": "36f5aaf7-5032-4f48-bf9e-a7bfda6379d8",
   "metadata": {},
   "outputs": [],
   "source": [
    "data[\"Purchase Address\"]=data[\"Purchase Address\"].str[:-6]"
   ]
  },
  {
   "cell_type": "markdown",
   "id": "dc5b11a3-981c-403b-a8d6-147bb68f5ad3",
   "metadata": {},
   "source": [
    "### extract Time "
   ]
  },
  {
   "cell_type": "code",
   "execution_count": 10,
   "id": "3640400e-dd4c-4689-96df-bc49addeb555",
   "metadata": {},
   "outputs": [],
   "source": [
    "data[\"Time\"]=data[\"Order Date\"].str[-5:]"
   ]
  },
  {
   "cell_type": "code",
   "execution_count": 11,
   "id": "da886675-bbf1-481f-9e07-c0c6e0975f9b",
   "metadata": {},
   "outputs": [
    {
     "data": {
      "text/plain": [
       "0         01-22\n",
       "1         01-28\n",
       "2         01-17\n",
       "3         01-05\n",
       "4         01-25\n",
       "          ...  \n",
       "185945    12-11\n",
       "185946    12-01\n",
       "185947    12-09\n",
       "185948    12-03\n",
       "185949    12-21\n",
       "Name: Time, Length: 185950, dtype: object"
      ]
     },
     "execution_count": 11,
     "metadata": {},
     "output_type": "execute_result"
    }
   ],
   "source": [
    "data[\"Time\"]"
   ]
  },
  {
   "cell_type": "code",
   "execution_count": 12,
   "id": "b896d750-e5e5-4ac1-94c6-47c89373e6a5",
   "metadata": {},
   "outputs": [],
   "source": [
    "data[\"Order Date\"]= data[\"Order Date\"].str[:8]"
   ]
  },
  {
   "cell_type": "code",
   "execution_count": 13,
   "id": "1d367362-fb12-4664-8e97-04a3f95b82f1",
   "metadata": {},
   "outputs": [
    {
     "data": {
      "text/plain": [
       "0         2019-01-\n",
       "1         2019-01-\n",
       "2         2019-01-\n",
       "3         2019-01-\n",
       "4         2019-01-\n",
       "            ...   \n",
       "185945    2019-12-\n",
       "185946    2019-12-\n",
       "185947    2019-12-\n",
       "185948    2019-12-\n",
       "185949    2019-12-\n",
       "Name: Order Date, Length: 185950, dtype: object"
      ]
     },
     "execution_count": 13,
     "metadata": {},
     "output_type": "execute_result"
    }
   ],
   "source": [
    "data[\"Order Date\"]"
   ]
  },
  {
   "cell_type": "code",
   "execution_count": 14,
   "id": "10119540-bbe9-41dc-8846-53a68226b77c",
   "metadata": {},
   "outputs": [
    {
     "data": {
      "text/html": [
       "<div>\n",
       "<style scoped>\n",
       "    .dataframe tbody tr th:only-of-type {\n",
       "        vertical-align: middle;\n",
       "    }\n",
       "\n",
       "    .dataframe tbody tr th {\n",
       "        vertical-align: top;\n",
       "    }\n",
       "\n",
       "    .dataframe thead th {\n",
       "        text-align: right;\n",
       "    }\n",
       "</style>\n",
       "<table border=\"1\" class=\"dataframe\">\n",
       "  <thead>\n",
       "    <tr style=\"text-align: right;\">\n",
       "      <th></th>\n",
       "      <th>Order ID</th>\n",
       "      <th>Product</th>\n",
       "      <th>Quantity Ordered</th>\n",
       "      <th>Price Each</th>\n",
       "      <th>Order Date</th>\n",
       "      <th>Purchase Address</th>\n",
       "      <th>pincode</th>\n",
       "      <th>Time</th>\n",
       "    </tr>\n",
       "  </thead>\n",
       "  <tbody>\n",
       "    <tr>\n",
       "      <th>0</th>\n",
       "      <td>141234</td>\n",
       "      <td>iPhone</td>\n",
       "      <td>1</td>\n",
       "      <td>700.00</td>\n",
       "      <td>2019-01-</td>\n",
       "      <td>944 Walnut St, Bost</td>\n",
       "      <td>ston, MA</td>\n",
       "      <td>01-22</td>\n",
       "    </tr>\n",
       "    <tr>\n",
       "      <th>1</th>\n",
       "      <td>141235</td>\n",
       "      <td>Lightning Charging Cable</td>\n",
       "      <td>1</td>\n",
       "      <td>14.95</td>\n",
       "      <td>2019-01-</td>\n",
       "      <td>185 Maple St, Portla</td>\n",
       "      <td>land, OR</td>\n",
       "      <td>01-28</td>\n",
       "    </tr>\n",
       "    <tr>\n",
       "      <th>2</th>\n",
       "      <td>141236</td>\n",
       "      <td>Wired Headphones</td>\n",
       "      <td>2</td>\n",
       "      <td>11.99</td>\n",
       "      <td>2019-01-</td>\n",
       "      <td>538 Adams St, San Francis</td>\n",
       "      <td>isco, CA</td>\n",
       "      <td>01-17</td>\n",
       "    </tr>\n",
       "    <tr>\n",
       "      <th>3</th>\n",
       "      <td>141237</td>\n",
       "      <td>27in FHD Monitor</td>\n",
       "      <td>1</td>\n",
       "      <td>149.99</td>\n",
       "      <td>2019-01-</td>\n",
       "      <td>738 10th St, Los Angel</td>\n",
       "      <td>eles, CA</td>\n",
       "      <td>01-05</td>\n",
       "    </tr>\n",
       "    <tr>\n",
       "      <th>4</th>\n",
       "      <td>141238</td>\n",
       "      <td>Wired Headphones</td>\n",
       "      <td>1</td>\n",
       "      <td>11.99</td>\n",
       "      <td>2019-01-</td>\n",
       "      <td>387 10th St, Aust</td>\n",
       "      <td>stin, TX</td>\n",
       "      <td>01-25</td>\n",
       "    </tr>\n",
       "    <tr>\n",
       "      <th>...</th>\n",
       "      <td>...</td>\n",
       "      <td>...</td>\n",
       "      <td>...</td>\n",
       "      <td>...</td>\n",
       "      <td>...</td>\n",
       "      <td>...</td>\n",
       "      <td>...</td>\n",
       "      <td>...</td>\n",
       "    </tr>\n",
       "    <tr>\n",
       "      <th>185945</th>\n",
       "      <td>319666</td>\n",
       "      <td>Lightning Charging Cable</td>\n",
       "      <td>1</td>\n",
       "      <td>14.95</td>\n",
       "      <td>2019-12-</td>\n",
       "      <td>14 Madison St, San Francis</td>\n",
       "      <td>isco, CA</td>\n",
       "      <td>12-11</td>\n",
       "    </tr>\n",
       "    <tr>\n",
       "      <th>185946</th>\n",
       "      <td>319667</td>\n",
       "      <td>AA Batteries (4-pack)</td>\n",
       "      <td>2</td>\n",
       "      <td>3.84</td>\n",
       "      <td>2019-12-</td>\n",
       "      <td>549 Willow St, Los Angel</td>\n",
       "      <td>eles, CA</td>\n",
       "      <td>12-01</td>\n",
       "    </tr>\n",
       "    <tr>\n",
       "      <th>185947</th>\n",
       "      <td>319668</td>\n",
       "      <td>Vareebadd Phone</td>\n",
       "      <td>1</td>\n",
       "      <td>400.00</td>\n",
       "      <td>2019-12-</td>\n",
       "      <td>273 Wilson St, Seatt</td>\n",
       "      <td>ttle, WA</td>\n",
       "      <td>12-09</td>\n",
       "    </tr>\n",
       "    <tr>\n",
       "      <th>185948</th>\n",
       "      <td>319669</td>\n",
       "      <td>Wired Headphones</td>\n",
       "      <td>1</td>\n",
       "      <td>11.99</td>\n",
       "      <td>2019-12-</td>\n",
       "      <td>778 River St, Dall</td>\n",
       "      <td>llas, TX</td>\n",
       "      <td>12-03</td>\n",
       "    </tr>\n",
       "    <tr>\n",
       "      <th>185949</th>\n",
       "      <td>319670</td>\n",
       "      <td>Bose SoundSport Headphones</td>\n",
       "      <td>1</td>\n",
       "      <td>99.99</td>\n",
       "      <td>2019-12-</td>\n",
       "      <td>747 Chestnut St, Los Angel</td>\n",
       "      <td>eles, CA</td>\n",
       "      <td>12-21</td>\n",
       "    </tr>\n",
       "  </tbody>\n",
       "</table>\n",
       "<p>185950 rows × 8 columns</p>\n",
       "</div>"
      ],
      "text/plain": [
       "        Order ID                     Product  Quantity Ordered  Price Each  \\\n",
       "0         141234                      iPhone                 1      700.00   \n",
       "1         141235    Lightning Charging Cable                 1       14.95   \n",
       "2         141236            Wired Headphones                 2       11.99   \n",
       "3         141237            27in FHD Monitor                 1      149.99   \n",
       "4         141238            Wired Headphones                 1       11.99   \n",
       "...          ...                         ...               ...         ...   \n",
       "185945    319666    Lightning Charging Cable                 1       14.95   \n",
       "185946    319667       AA Batteries (4-pack)                 2        3.84   \n",
       "185947    319668             Vareebadd Phone                 1      400.00   \n",
       "185948    319669            Wired Headphones                 1       11.99   \n",
       "185949    319670  Bose SoundSport Headphones                 1       99.99   \n",
       "\n",
       "       Order Date            Purchase Address   pincode   Time  \n",
       "0        2019-01-         944 Walnut St, Bost  ston, MA  01-22  \n",
       "1        2019-01-        185 Maple St, Portla  land, OR  01-28  \n",
       "2        2019-01-   538 Adams St, San Francis  isco, CA  01-17  \n",
       "3        2019-01-      738 10th St, Los Angel  eles, CA  01-05  \n",
       "4        2019-01-           387 10th St, Aust  stin, TX  01-25  \n",
       "...           ...                         ...       ...    ...  \n",
       "185945   2019-12-  14 Madison St, San Francis  isco, CA  12-11  \n",
       "185946   2019-12-    549 Willow St, Los Angel  eles, CA  12-01  \n",
       "185947   2019-12-        273 Wilson St, Seatt  ttle, WA  12-09  \n",
       "185948   2019-12-          778 River St, Dall  llas, TX  12-03  \n",
       "185949   2019-12-  747 Chestnut St, Los Angel  eles, CA  12-21  \n",
       "\n",
       "[185950 rows x 8 columns]"
      ]
     },
     "execution_count": 14,
     "metadata": {},
     "output_type": "execute_result"
    }
   ],
   "source": [
    "data"
   ]
  },
  {
   "cell_type": "markdown",
   "id": "ff8dafb7-c389-4105-bb4a-007ba9c54674",
   "metadata": {},
   "source": [
    "### Extract pincode"
   ]
  },
  {
   "cell_type": "code",
   "execution_count": 15,
   "id": "58843caa-1b98-443d-981f-424ee7c315b9",
   "metadata": {},
   "outputs": [],
   "source": [
    "data[\"pincode\"]=data[\"pincode\"].str[3:]"
   ]
  },
  {
   "cell_type": "code",
   "execution_count": 16,
   "id": "92f66805-e769-4ccb-88ac-1bac53f7714d",
   "metadata": {},
   "outputs": [
    {
     "data": {
      "text/html": [
       "<div>\n",
       "<style scoped>\n",
       "    .dataframe tbody tr th:only-of-type {\n",
       "        vertical-align: middle;\n",
       "    }\n",
       "\n",
       "    .dataframe tbody tr th {\n",
       "        vertical-align: top;\n",
       "    }\n",
       "\n",
       "    .dataframe thead th {\n",
       "        text-align: right;\n",
       "    }\n",
       "</style>\n",
       "<table border=\"1\" class=\"dataframe\">\n",
       "  <thead>\n",
       "    <tr style=\"text-align: right;\">\n",
       "      <th></th>\n",
       "      <th>Order ID</th>\n",
       "      <th>Product</th>\n",
       "      <th>Quantity Ordered</th>\n",
       "      <th>Price Each</th>\n",
       "      <th>Order Date</th>\n",
       "      <th>Purchase Address</th>\n",
       "      <th>pincode</th>\n",
       "      <th>Time</th>\n",
       "    </tr>\n",
       "  </thead>\n",
       "  <tbody>\n",
       "    <tr>\n",
       "      <th>0</th>\n",
       "      <td>141234</td>\n",
       "      <td>iPhone</td>\n",
       "      <td>1</td>\n",
       "      <td>700.00</td>\n",
       "      <td>2019-01-</td>\n",
       "      <td>944 Walnut St, Bost</td>\n",
       "      <td>n, MA</td>\n",
       "      <td>01-22</td>\n",
       "    </tr>\n",
       "    <tr>\n",
       "      <th>1</th>\n",
       "      <td>141235</td>\n",
       "      <td>Lightning Charging Cable</td>\n",
       "      <td>1</td>\n",
       "      <td>14.95</td>\n",
       "      <td>2019-01-</td>\n",
       "      <td>185 Maple St, Portla</td>\n",
       "      <td>d, OR</td>\n",
       "      <td>01-28</td>\n",
       "    </tr>\n",
       "    <tr>\n",
       "      <th>2</th>\n",
       "      <td>141236</td>\n",
       "      <td>Wired Headphones</td>\n",
       "      <td>2</td>\n",
       "      <td>11.99</td>\n",
       "      <td>2019-01-</td>\n",
       "      <td>538 Adams St, San Francis</td>\n",
       "      <td>o, CA</td>\n",
       "      <td>01-17</td>\n",
       "    </tr>\n",
       "    <tr>\n",
       "      <th>3</th>\n",
       "      <td>141237</td>\n",
       "      <td>27in FHD Monitor</td>\n",
       "      <td>1</td>\n",
       "      <td>149.99</td>\n",
       "      <td>2019-01-</td>\n",
       "      <td>738 10th St, Los Angel</td>\n",
       "      <td>s, CA</td>\n",
       "      <td>01-05</td>\n",
       "    </tr>\n",
       "    <tr>\n",
       "      <th>4</th>\n",
       "      <td>141238</td>\n",
       "      <td>Wired Headphones</td>\n",
       "      <td>1</td>\n",
       "      <td>11.99</td>\n",
       "      <td>2019-01-</td>\n",
       "      <td>387 10th St, Aust</td>\n",
       "      <td>n, TX</td>\n",
       "      <td>01-25</td>\n",
       "    </tr>\n",
       "    <tr>\n",
       "      <th>...</th>\n",
       "      <td>...</td>\n",
       "      <td>...</td>\n",
       "      <td>...</td>\n",
       "      <td>...</td>\n",
       "      <td>...</td>\n",
       "      <td>...</td>\n",
       "      <td>...</td>\n",
       "      <td>...</td>\n",
       "    </tr>\n",
       "    <tr>\n",
       "      <th>185945</th>\n",
       "      <td>319666</td>\n",
       "      <td>Lightning Charging Cable</td>\n",
       "      <td>1</td>\n",
       "      <td>14.95</td>\n",
       "      <td>2019-12-</td>\n",
       "      <td>14 Madison St, San Francis</td>\n",
       "      <td>o, CA</td>\n",
       "      <td>12-11</td>\n",
       "    </tr>\n",
       "    <tr>\n",
       "      <th>185946</th>\n",
       "      <td>319667</td>\n",
       "      <td>AA Batteries (4-pack)</td>\n",
       "      <td>2</td>\n",
       "      <td>3.84</td>\n",
       "      <td>2019-12-</td>\n",
       "      <td>549 Willow St, Los Angel</td>\n",
       "      <td>s, CA</td>\n",
       "      <td>12-01</td>\n",
       "    </tr>\n",
       "    <tr>\n",
       "      <th>185947</th>\n",
       "      <td>319668</td>\n",
       "      <td>Vareebadd Phone</td>\n",
       "      <td>1</td>\n",
       "      <td>400.00</td>\n",
       "      <td>2019-12-</td>\n",
       "      <td>273 Wilson St, Seatt</td>\n",
       "      <td>e, WA</td>\n",
       "      <td>12-09</td>\n",
       "    </tr>\n",
       "    <tr>\n",
       "      <th>185948</th>\n",
       "      <td>319669</td>\n",
       "      <td>Wired Headphones</td>\n",
       "      <td>1</td>\n",
       "      <td>11.99</td>\n",
       "      <td>2019-12-</td>\n",
       "      <td>778 River St, Dall</td>\n",
       "      <td>s, TX</td>\n",
       "      <td>12-03</td>\n",
       "    </tr>\n",
       "    <tr>\n",
       "      <th>185949</th>\n",
       "      <td>319670</td>\n",
       "      <td>Bose SoundSport Headphones</td>\n",
       "      <td>1</td>\n",
       "      <td>99.99</td>\n",
       "      <td>2019-12-</td>\n",
       "      <td>747 Chestnut St, Los Angel</td>\n",
       "      <td>s, CA</td>\n",
       "      <td>12-21</td>\n",
       "    </tr>\n",
       "  </tbody>\n",
       "</table>\n",
       "<p>185950 rows × 8 columns</p>\n",
       "</div>"
      ],
      "text/plain": [
       "        Order ID                     Product  Quantity Ordered  Price Each  \\\n",
       "0         141234                      iPhone                 1      700.00   \n",
       "1         141235    Lightning Charging Cable                 1       14.95   \n",
       "2         141236            Wired Headphones                 2       11.99   \n",
       "3         141237            27in FHD Monitor                 1      149.99   \n",
       "4         141238            Wired Headphones                 1       11.99   \n",
       "...          ...                         ...               ...         ...   \n",
       "185945    319666    Lightning Charging Cable                 1       14.95   \n",
       "185946    319667       AA Batteries (4-pack)                 2        3.84   \n",
       "185947    319668             Vareebadd Phone                 1      400.00   \n",
       "185948    319669            Wired Headphones                 1       11.99   \n",
       "185949    319670  Bose SoundSport Headphones                 1       99.99   \n",
       "\n",
       "       Order Date            Purchase Address pincode   Time  \n",
       "0        2019-01-         944 Walnut St, Bost   n, MA  01-22  \n",
       "1        2019-01-        185 Maple St, Portla   d, OR  01-28  \n",
       "2        2019-01-   538 Adams St, San Francis   o, CA  01-17  \n",
       "3        2019-01-      738 10th St, Los Angel   s, CA  01-05  \n",
       "4        2019-01-           387 10th St, Aust   n, TX  01-25  \n",
       "...           ...                         ...     ...    ...  \n",
       "185945   2019-12-  14 Madison St, San Francis   o, CA  12-11  \n",
       "185946   2019-12-    549 Willow St, Los Angel   s, CA  12-01  \n",
       "185947   2019-12-        273 Wilson St, Seatt   e, WA  12-09  \n",
       "185948   2019-12-          778 River St, Dall   s, TX  12-03  \n",
       "185949   2019-12-  747 Chestnut St, Los Angel   s, CA  12-21  \n",
       "\n",
       "[185950 rows x 8 columns]"
      ]
     },
     "execution_count": 16,
     "metadata": {},
     "output_type": "execute_result"
    }
   ],
   "source": [
    "data"
   ]
  },
  {
   "cell_type": "code",
   "execution_count": 17,
   "id": "8296c2af-698d-4db3-9357-1d38058fba96",
   "metadata": {},
   "outputs": [
    {
     "name": "stdout",
     "output_type": "stream",
     "text": [
      "<class 'pandas.core.frame.DataFrame'>\n",
      "RangeIndex: 185950 entries, 0 to 185949\n",
      "Data columns (total 8 columns):\n",
      " #   Column            Non-Null Count   Dtype  \n",
      "---  ------            --------------   -----  \n",
      " 0   Order ID          185950 non-null  int64  \n",
      " 1   Product           185950 non-null  object \n",
      " 2   Quantity Ordered  185950 non-null  int64  \n",
      " 3   Price Each        185950 non-null  float64\n",
      " 4   Order Date        185950 non-null  object \n",
      " 5   Purchase Address  185950 non-null  object \n",
      " 6   pincode           185950 non-null  object \n",
      " 7   Time              185950 non-null  object \n",
      "dtypes: float64(1), int64(2), object(5)\n",
      "memory usage: 11.3+ MB\n"
     ]
    }
   ],
   "source": [
    "data.info()"
   ]
  },
  {
   "cell_type": "markdown",
   "id": "b32932d3-127e-408e-99bb-b8bb53332782",
   "metadata": {},
   "source": [
    "# changes data types "
   ]
  },
  {
   "cell_type": "code",
   "execution_count": 18,
   "id": "afb2051a-4b91-4759-8d9c-6a3e40eca576",
   "metadata": {},
   "outputs": [],
   "source": [
    "data[\"Order ID\"]=data[\"Order ID\"].astype(str)"
   ]
  },
  {
   "cell_type": "code",
   "execution_count": 19,
   "id": "5b719ac9-a9b5-4a96-a7d5-0b826abf1a6f",
   "metadata": {},
   "outputs": [
    {
     "name": "stdout",
     "output_type": "stream",
     "text": [
      "<class 'pandas.core.frame.DataFrame'>\n",
      "RangeIndex: 185950 entries, 0 to 185949\n",
      "Data columns (total 8 columns):\n",
      " #   Column            Non-Null Count   Dtype  \n",
      "---  ------            --------------   -----  \n",
      " 0   Order ID          185950 non-null  object \n",
      " 1   Product           185950 non-null  object \n",
      " 2   Quantity Ordered  185950 non-null  int64  \n",
      " 3   Price Each        185950 non-null  float64\n",
      " 4   Order Date        185950 non-null  object \n",
      " 5   Purchase Address  185950 non-null  object \n",
      " 6   pincode           185950 non-null  object \n",
      " 7   Time              185950 non-null  object \n",
      "dtypes: float64(1), int64(1), object(6)\n",
      "memory usage: 11.3+ MB\n"
     ]
    }
   ],
   "source": [
    "data.info()"
   ]
  },
  {
   "cell_type": "code",
   "execution_count": 20,
   "id": "b56640ba-5c2b-4363-9226-c733876ee652",
   "metadata": {},
   "outputs": [],
   "source": [
    "data['Order ID'] = pd.to_numeric(data['Order ID'], errors='coerce')\n",
    "\n",
    "data = data.dropna(subset=['Order ID'])\n",
    "data['Order ID'] = data['Order ID'].astype(int)\n",
    "\n"
   ]
  },
  {
   "cell_type": "code",
   "execution_count": 21,
   "id": "967a4818-6921-46f0-b22c-40bf933a8795",
   "metadata": {},
   "outputs": [
    {
     "name": "stdout",
     "output_type": "stream",
     "text": [
      "<class 'pandas.core.frame.DataFrame'>\n",
      "RangeIndex: 185950 entries, 0 to 185949\n",
      "Data columns (total 8 columns):\n",
      " #   Column            Non-Null Count   Dtype  \n",
      "---  ------            --------------   -----  \n",
      " 0   Order ID          185950 non-null  int64  \n",
      " 1   Product           185950 non-null  object \n",
      " 2   Quantity Ordered  185950 non-null  int64  \n",
      " 3   Price Each        185950 non-null  float64\n",
      " 4   Order Date        185950 non-null  object \n",
      " 5   Purchase Address  185950 non-null  object \n",
      " 6   pincode           185950 non-null  object \n",
      " 7   Time              185950 non-null  object \n",
      "dtypes: float64(1), int64(2), object(5)\n",
      "memory usage: 11.3+ MB\n"
     ]
    }
   ],
   "source": [
    "data.info()"
   ]
  },
  {
   "cell_type": "code",
   "execution_count": 22,
   "id": "3b7a68ae-b4d0-4c65-90f3-59de43cc76d1",
   "metadata": {},
   "outputs": [],
   "source": [
    "data[\"Quantity Ordered\"]=data[\"Quantity Ordered\"].astype(int)\n",
    "\n"
   ]
  },
  {
   "cell_type": "code",
   "execution_count": 23,
   "id": "a9e3477a-2804-4def-a3a9-8c3452dd1c19",
   "metadata": {},
   "outputs": [],
   "source": [
    "data[\"Price Each\"]=data[\"Price Each\"].astype(float)\n"
   ]
  },
  {
   "cell_type": "code",
   "execution_count": null,
   "id": "d8a9dc0e-bae6-4426-a1d3-840d971f690b",
   "metadata": {},
   "outputs": [],
   "source": [
    "data['Order Date'] = pd.to_datetime(data['Order Date'], format='%m/%d/%y')"
   ]
  },
  {
   "cell_type": "code",
   "execution_count": null,
   "id": "e6cfbdb2-13b0-4ac7-8579-67243e98a683",
   "metadata": {},
   "outputs": [],
   "source": [
    "data['Time'] = pd.to_datetime(data['Time'], format='%H:%M:%S').dt.time"
   ]
  },
  {
   "cell_type": "code",
   "execution_count": null,
   "id": "7f0be299-d6c3-460b-87ab-d88a0490a593",
   "metadata": {},
   "outputs": [],
   "source": [
    "data.info()"
   ]
  },
  {
   "cell_type": "code",
   "execution_count": null,
   "id": "4e43ee79-57fc-45a9-940f-bf89c45238f2",
   "metadata": {},
   "outputs": [],
   "source": [
    "file_path = 'sale_merged_file.csv'  # Specify the file name and path\n",
    "data.to_csv(file_path, index=False)  # Save without the index"
   ]
  },
  {
   "cell_type": "code",
   "execution_count": 2,
   "id": "08c01208-f1ad-4412-a923-a255d4c8bac0",
   "metadata": {},
   "outputs": [
    {
     "data": {
      "text/html": [
       "<div>\n",
       "<style scoped>\n",
       "    .dataframe tbody tr th:only-of-type {\n",
       "        vertical-align: middle;\n",
       "    }\n",
       "\n",
       "    .dataframe tbody tr th {\n",
       "        vertical-align: top;\n",
       "    }\n",
       "\n",
       "    .dataframe thead th {\n",
       "        text-align: right;\n",
       "    }\n",
       "</style>\n",
       "<table border=\"1\" class=\"dataframe\">\n",
       "  <thead>\n",
       "    <tr style=\"text-align: right;\">\n",
       "      <th></th>\n",
       "      <th>Order ID</th>\n",
       "      <th>Product</th>\n",
       "      <th>Quantity Ordered</th>\n",
       "      <th>Price Each</th>\n",
       "      <th>Order Date</th>\n",
       "      <th>Purchase Address</th>\n",
       "      <th>pincode</th>\n",
       "      <th>Time</th>\n",
       "    </tr>\n",
       "  </thead>\n",
       "  <tbody>\n",
       "    <tr>\n",
       "      <th>0</th>\n",
       "      <td>141234</td>\n",
       "      <td>iPhone</td>\n",
       "      <td>1</td>\n",
       "      <td>700.00</td>\n",
       "      <td>2019-01-22</td>\n",
       "      <td>944 Walnut St, Boston, MA</td>\n",
       "      <td>2215</td>\n",
       "      <td>21:25:00</td>\n",
       "    </tr>\n",
       "    <tr>\n",
       "      <th>1</th>\n",
       "      <td>141235</td>\n",
       "      <td>Lightning Charging Cable</td>\n",
       "      <td>1</td>\n",
       "      <td>14.95</td>\n",
       "      <td>2019-01-28</td>\n",
       "      <td>185 Maple St, Portland, OR</td>\n",
       "      <td>97035</td>\n",
       "      <td>14:15:00</td>\n",
       "    </tr>\n",
       "    <tr>\n",
       "      <th>2</th>\n",
       "      <td>141236</td>\n",
       "      <td>Wired Headphones</td>\n",
       "      <td>2</td>\n",
       "      <td>11.99</td>\n",
       "      <td>2019-01-17</td>\n",
       "      <td>538 Adams St, San Francisco, CA</td>\n",
       "      <td>94016</td>\n",
       "      <td>13:33:00</td>\n",
       "    </tr>\n",
       "    <tr>\n",
       "      <th>3</th>\n",
       "      <td>141237</td>\n",
       "      <td>27in FHD Monitor</td>\n",
       "      <td>1</td>\n",
       "      <td>149.99</td>\n",
       "      <td>2019-01-05</td>\n",
       "      <td>738 10th St, Los Angeles, CA</td>\n",
       "      <td>90001</td>\n",
       "      <td>20:33:00</td>\n",
       "    </tr>\n",
       "    <tr>\n",
       "      <th>4</th>\n",
       "      <td>141238</td>\n",
       "      <td>Wired Headphones</td>\n",
       "      <td>1</td>\n",
       "      <td>11.99</td>\n",
       "      <td>2019-01-25</td>\n",
       "      <td>387 10th St, Austin, TX</td>\n",
       "      <td>73301</td>\n",
       "      <td>11:59:00</td>\n",
       "    </tr>\n",
       "    <tr>\n",
       "      <th>5</th>\n",
       "      <td>141239</td>\n",
       "      <td>AAA Batteries (4-pack)</td>\n",
       "      <td>1</td>\n",
       "      <td>2.99</td>\n",
       "      <td>2019-01-29</td>\n",
       "      <td>775 Willow St, San Francisco, CA</td>\n",
       "      <td>94016</td>\n",
       "      <td>20:22:00</td>\n",
       "    </tr>\n",
       "    <tr>\n",
       "      <th>6</th>\n",
       "      <td>141240</td>\n",
       "      <td>27in 4K Gaming Monitor</td>\n",
       "      <td>1</td>\n",
       "      <td>389.99</td>\n",
       "      <td>2019-01-26</td>\n",
       "      <td>979 Park St, Los Angeles, CA</td>\n",
       "      <td>90001</td>\n",
       "      <td>12:16:00</td>\n",
       "    </tr>\n",
       "    <tr>\n",
       "      <th>7</th>\n",
       "      <td>141241</td>\n",
       "      <td>USB-C Charging Cable</td>\n",
       "      <td>1</td>\n",
       "      <td>11.95</td>\n",
       "      <td>2019-01-05</td>\n",
       "      <td>181 6th St, San Francisco, CA</td>\n",
       "      <td>94016</td>\n",
       "      <td>12:04:00</td>\n",
       "    </tr>\n",
       "    <tr>\n",
       "      <th>8</th>\n",
       "      <td>141242</td>\n",
       "      <td>Bose SoundSport Headphones</td>\n",
       "      <td>1</td>\n",
       "      <td>99.99</td>\n",
       "      <td>2019-01-01</td>\n",
       "      <td>867 Willow St, Los Angeles, CA</td>\n",
       "      <td>90001</td>\n",
       "      <td>10:30:00</td>\n",
       "    </tr>\n",
       "    <tr>\n",
       "      <th>9</th>\n",
       "      <td>141243</td>\n",
       "      <td>Apple Airpods Headphones</td>\n",
       "      <td>1</td>\n",
       "      <td>150.00</td>\n",
       "      <td>2019-01-22</td>\n",
       "      <td>657 Johnson St, San Francisco, CA</td>\n",
       "      <td>94016</td>\n",
       "      <td>21:20:00</td>\n",
       "    </tr>\n",
       "  </tbody>\n",
       "</table>\n",
       "</div>"
      ],
      "text/plain": [
       "   Order ID                     Product  Quantity Ordered  Price Each  \\\n",
       "0    141234                      iPhone                 1      700.00   \n",
       "1    141235    Lightning Charging Cable                 1       14.95   \n",
       "2    141236            Wired Headphones                 2       11.99   \n",
       "3    141237            27in FHD Monitor                 1      149.99   \n",
       "4    141238            Wired Headphones                 1       11.99   \n",
       "5    141239      AAA Batteries (4-pack)                 1        2.99   \n",
       "6    141240      27in 4K Gaming Monitor                 1      389.99   \n",
       "7    141241        USB-C Charging Cable                 1       11.95   \n",
       "8    141242  Bose SoundSport Headphones                 1       99.99   \n",
       "9    141243    Apple Airpods Headphones                 1      150.00   \n",
       "\n",
       "   Order Date                   Purchase Address  pincode      Time  \n",
       "0  2019-01-22          944 Walnut St, Boston, MA     2215  21:25:00  \n",
       "1  2019-01-28         185 Maple St, Portland, OR    97035  14:15:00  \n",
       "2  2019-01-17    538 Adams St, San Francisco, CA    94016  13:33:00  \n",
       "3  2019-01-05       738 10th St, Los Angeles, CA    90001  20:33:00  \n",
       "4  2019-01-25            387 10th St, Austin, TX    73301  11:59:00  \n",
       "5  2019-01-29   775 Willow St, San Francisco, CA    94016  20:22:00  \n",
       "6  2019-01-26       979 Park St, Los Angeles, CA    90001  12:16:00  \n",
       "7  2019-01-05      181 6th St, San Francisco, CA    94016  12:04:00  \n",
       "8  2019-01-01     867 Willow St, Los Angeles, CA    90001  10:30:00  \n",
       "9  2019-01-22  657 Johnson St, San Francisco, CA    94016  21:20:00  "
      ]
     },
     "execution_count": 2,
     "metadata": {},
     "output_type": "execute_result"
    }
   ],
   "source": [
    "data.head(10)"
   ]
  }
 ],
 "metadata": {
  "kernelspec": {
   "display_name": "Python 3 (ipykernel)",
   "language": "python",
   "name": "python3"
  },
  "language_info": {
   "codemirror_mode": {
    "name": "ipython",
    "version": 3
   },
   "file_extension": ".py",
   "mimetype": "text/x-python",
   "name": "python",
   "nbconvert_exporter": "python",
   "pygments_lexer": "ipython3",
   "version": "3.12.6"
  }
 },
 "nbformat": 4,
 "nbformat_minor": 5
}
